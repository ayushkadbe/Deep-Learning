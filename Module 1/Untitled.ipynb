{
 "cells": [
  {
   "cell_type": "code",
   "execution_count": 3,
   "id": "a74e8ba1-bd54-4cfe-a9ef-a64aedef2df9",
   "metadata": {},
   "outputs": [],
   "source": [
    "import numpy as np\n",
    "\n",
    "weights = np.around(np.random.uniform(size=8), decimals=2)\n",
    "biases = np.around(np.random.uniform(size=5), decimals=2)"
   ]
  },
  {
   "cell_type": "code",
   "execution_count": 4,
   "id": "3766d614-7cfe-44ee-9dd6-c107040bb546",
   "metadata": {},
   "outputs": [
    {
     "name": "stdout",
     "output_type": "stream",
     "text": [
      "[0.05 0.75 0.75 0.94 0.42 0.29 0.32 0.82]\n",
      "[0.79 0.22 0.01 0.55 0.92]\n"
     ]
    }
   ],
   "source": [
    "print(weights)\n",
    "print(biases)"
   ]
  },
  {
   "cell_type": "code",
   "execution_count": 5,
   "id": "bc4dcd56-4ea3-430a-9b94-0dad7903fda0",
   "metadata": {},
   "outputs": [
    {
     "name": "stdout",
     "output_type": "stream",
     "text": [
      "x1 is 0.25 and x2 is 0.05\n"
     ]
    }
   ],
   "source": [
    "x1 = 0.25\n",
    "x2 = 0.05\n",
    "\n",
    "print('x1 is {} and x2 is {}'.format(x1,x2))"
   ]
  },
  {
   "cell_type": "code",
   "execution_count": 8,
   "id": "80526ff1-4c0a-4b77-8f95-5bda17a93912",
   "metadata": {},
   "outputs": [
    {
     "name": "stdout",
     "output_type": "stream",
     "text": [
      "weighted sum in hidden layers is 0.5\n"
     ]
    }
   ],
   "source": [
    "z1 = x1*weights[0] + x2*weights[1] + 0.45\n",
    "\n",
    "print('weighted sum in hidden layer node is {}'.format(z1))"
   ]
  },
  {
   "cell_type": "code",
   "execution_count": 9,
   "id": "06b9d052-d80a-4de8-a386-1a3be18fedd2",
   "metadata": {},
   "outputs": [
    {
     "name": "stdout",
     "output_type": "stream",
     "text": [
      "weighted sum in 2nd hidden layers is 0.4845\n"
     ]
    }
   ],
   "source": [
    "z2 = x1*weights[2] + x2*weights[3] + 0.25\n",
    "\n",
    "print('weighted sum in 2nd hidden layer node is {}'.format(np.around(z2, decimals=4)))"
   ]
  },
  {
   "cell_type": "code",
   "execution_count": 10,
   "id": "76e8d531-4631-4f05-8909-ed71fbf99f22",
   "metadata": {},
   "outputs": [
    {
     "name": "stdout",
     "output_type": "stream",
     "text": [
      "activation function of 1st node is 0.6225\n"
     ]
    }
   ],
   "source": [
    "a1 = 1.0 / (1.0 + np.exp(-z1))\n",
    "\n",
    "print('activation function of 1st node is {}'.format(np.around(a1, decimals=4)))"
   ]
  },
  {
   "cell_type": "code",
   "execution_count": 11,
   "id": "1bbf0f40-954c-4c81-b3b3-067d799ca8d5",
   "metadata": {},
   "outputs": [
    {
     "name": "stdout",
     "output_type": "stream",
     "text": [
      "activation function of 2nd node is 0.6188\n"
     ]
    }
   ],
   "source": [
    "a2 = 1.0 / (1.0 + np.exp(-z2))\n",
    "\n",
    "print('activation function of 2nd node is {}'.format(np.around(a2, decimals=4)))"
   ]
  },
  {
   "cell_type": "code",
   "execution_count": 8,
   "id": "7beb7f20-8439-4658-bb18-431fd6581b03",
   "metadata": {},
   "outputs": [
    {
     "name": "stdout",
     "output_type": "stream",
     "text": [
      "weighted sum of inputs at the output layer is 1.7401\n"
     ]
    }
   ],
   "source": [
    "z11 = a1*weights[4] + a2*weights[5] + biases[2]\n",
    "\n",
    "print('weighted sum of inputs at the output layer is {}'.format(np.around(z11, decimals=4)))"
   ]
  },
  {
   "cell_type": "code",
   "execution_count": 9,
   "id": "6dfbfc40-7407-4bcc-9586-3602d2278749",
   "metadata": {},
   "outputs": [
    {
     "name": "stdout",
     "output_type": "stream",
     "text": [
      "weighted sum of inputs at the output layer is 0.8989\n"
     ]
    }
   ],
   "source": [
    "z22 = a1*weights[6] + a2*weights[7] + biases[3]\n",
    "\n",
    "print('weighted sum of inputs at the output layer is {}'.format(np.around(z22, decimals=4)))"
   ]
  },
  {
   "cell_type": "code",
   "execution_count": 10,
   "id": "1073f87b-3b96-4029-a2cd-a0e67fa0cc82",
   "metadata": {},
   "outputs": [],
   "source": [
    "n = 2 #no. of inputs\n",
    "n_hl= 2 #no. of hidden layers\n",
    "m = [2,2] #no. of nodes in each hidden layers\n",
    "n_o = 2 #no. of nodes in output layers"
   ]
  },
  {
   "cell_type": "code",
   "execution_count": 11,
   "id": "091b294a-ba05-4dad-82c1-2803fa95fe81",
   "metadata": {},
   "outputs": [
    {
     "name": "stdout",
     "output_type": "stream",
     "text": [
      "{'layer_1': {'node_1': {'weights': array([0.93, 0.28]), 'bias': array([0.17])}, 'node_2': {'weights': array([0.87, 0.81]), 'bias': array([0.8])}}, 'layer_2': {'node_1': {'weights': array([0.44, 0.06]), 'bias': array([0.33])}, 'node_2': {'weights': array([0.26, 0.7 ]), 'bias': array([0.01])}}, 'output': {'node_1': {'weights': array([0.99, 0.35]), 'bias': array([0.78])}, 'node_2': {'weights': array([0.69, 0.5 ]), 'bias': array([0.63])}}}\n"
     ]
    }
   ],
   "source": [
    "import numpy as np\n",
    "\n",
    "n_pl= n #no. of nodes in previous layers\n",
    "network = {} #initialize network as a empty dictionary\n",
    "\n",
    "#loop each layer with random initialization of weights and biases in each node\n",
    "\n",
    "#+1 to include output layer\n",
    "for layer in range(n_hl + 1):\n",
    "    #layer naming and node numbering in that layer\n",
    "    if layer == n_hl:\n",
    "        layer_name = 'output'\n",
    "        num_nodes = n_o\n",
    "    else:\n",
    "        layer_name = 'layer_{}'.format(layer+1)\n",
    "        num_nodes = m[layer]\n",
    "    #layer naming in network\n",
    "    network[layer_name] = {}\n",
    "    \n",
    "    for node in range(num_nodes):\n",
    "        # node naming\n",
    "        node_name = 'node_{}'.format(node+1)\n",
    "        #weights and biases assigning in a network(layer name, node name)\n",
    "        network[layer_name][node_name]={\n",
    "            'weights':np.around(np.random.uniform(size=n_pl), decimals=2),\n",
    "            'bias': np.around(np.random.uniform(size=1), decimals=2),\n",
    "        }\n",
    "    n_pl = num_nodes\n",
    "    \n",
    "print(network)\n"
   ]
  },
  {
   "cell_type": "code",
   "execution_count": 12,
   "id": "7138c368-4d38-4046-8039-7e6b5c73376d",
   "metadata": {},
   "outputs": [],
   "source": [
    "def initialize_network(n, n_hl, m, n_o):\n",
    "\n",
    "    n_pl= n #no. of nodes in previous layers\n",
    "    network = {} #initialize network as a empty dictionary\n",
    "    \n",
    "    #loop each layer with random initialization of weights and biases in each node\n",
    "    \n",
    "    #+1 to include output layer\n",
    "    for layer in range(n_hl + 1):\n",
    "        #layer naming and node numbering in that layer\n",
    "        if layer == n_hl:\n",
    "            layer_name = 'output'\n",
    "            num_nodes = n_o\n",
    "        else:\n",
    "            layer_name = 'layer_{}'.format(layer+1)\n",
    "            num_nodes = m[layer]\n",
    "        #layer naming in network\n",
    "        network[layer_name] = {}\n",
    "        \n",
    "        for node in range(num_nodes):\n",
    "            # node naming\n",
    "            node_name = 'node_{}'.format(node+1)\n",
    "            #weights and biases assigning in a network(layer name, node name)\n",
    "            network[layer_name][node_name]={\n",
    "                'weights':np.around(np.random.uniform(size=n_pl), decimals=2),\n",
    "                'bias': np.around(np.random.uniform(size=1), decimals=2),\n",
    "            }\n",
    "        n_pl = num_nodes\n",
    "        \n",
    "    return network\n"
   ]
  },
  {
   "cell_type": "code",
   "execution_count": 13,
   "id": "5f53d9f2-2dde-400c-86ea-3b65b717bff4",
   "metadata": {},
   "outputs": [
    {
     "data": {
      "text/plain": [
       "<function __main__.initialize_network(n, n_hl, m, n_o)>"
      ]
     },
     "execution_count": 13,
     "metadata": {},
     "output_type": "execute_result"
    }
   ],
   "source": [
    "initialize_network"
   ]
  },
  {
   "cell_type": "code",
   "execution_count": 14,
   "id": "500e0086-53fd-4732-b446-f7500d8b8791",
   "metadata": {},
   "outputs": [],
   "source": [
    "small_network= initialize_network(5,3,[3,2,3],1)"
   ]
  },
  {
   "cell_type": "code",
   "execution_count": 15,
   "id": "258fa16b-3303-48c9-983b-3b38ff1a1711",
   "metadata": {},
   "outputs": [
    {
     "data": {
      "text/plain": [
       "{'layer_1': {'node_1': {'weights': array([0.68, 0.38, 0.48, 0.06, 0.59]),\n",
       "   'bias': array([0.8])},\n",
       "  'node_2': {'weights': array([0.18, 0.09, 0.67, 0.33, 0.67]),\n",
       "   'bias': array([0.37])},\n",
       "  'node_3': {'weights': array([0.11, 0.18, 0.74, 0.36, 0.11]),\n",
       "   'bias': array([0.16])}},\n",
       " 'layer_2': {'node_1': {'weights': array([0.24, 0.96, 0.79]),\n",
       "   'bias': array([0.93])},\n",
       "  'node_2': {'weights': array([0.44, 0.3 , 0.04]), 'bias': array([0.89])}},\n",
       " 'layer_3': {'node_1': {'weights': array([0.39, 0.42]), 'bias': array([0.3])},\n",
       "  'node_2': {'weights': array([0.99, 0.89]), 'bias': array([0.45])},\n",
       "  'node_3': {'weights': array([0.04, 0.33]), 'bias': array([0.15])}},\n",
       " 'output': {'node_1': {'weights': array([0.98, 0.5 , 0.7 ]),\n",
       "   'bias': array([0.45])}}}"
      ]
     },
     "execution_count": 15,
     "metadata": {},
     "output_type": "execute_result"
    }
   ],
   "source": [
    "small_network"
   ]
  },
  {
   "cell_type": "code",
   "execution_count": 16,
   "id": "323c20f9-e67b-4fe6-acd6-c51521aed2ca",
   "metadata": {},
   "outputs": [],
   "source": [
    "#computer weighted sum at each node\n",
    "def compute_weighted_sum(inputs, weights, bias):\n",
    "    return np.sum(inputs * weights) + bias"
   ]
  },
  {
   "cell_type": "code",
   "execution_count": 17,
   "id": "03557f8a-6fed-4569-8078-b9f43d346087",
   "metadata": {},
   "outputs": [
    {
     "name": "stdout",
     "output_type": "stream",
     "text": [
      "Inputs: [0.15 0.74 0.26 0.53 0.01]\n"
     ]
    }
   ],
   "source": [
    "#5 random inputs for small_network\n",
    "\n",
    "from random import seed\n",
    "import numpy as np\n",
    "\n",
    "np.random.seed(12) #seed: generate a set of random nums\n",
    "inputs = np.around(np.random.uniform(size=5), decimals=2)\n",
    "\n",
    "print('Inputs: {}'.format(inputs))"
   ]
  },
  {
   "cell_type": "code",
   "execution_count": 18,
   "id": "027c69dc-f8db-433f-b9d4-bbe264497511",
   "metadata": {},
   "outputs": [
    {
     "name": "stdout",
     "output_type": "stream",
     "text": [
      "Weighted Sum at 1st node in 1st hidden layer: 1.3457\n"
     ]
    }
   ],
   "source": [
    "node_weights = small_network['layer_1']['node_1']['weights']\n",
    "node_bias = small_network['layer_1']['node_1']['bias']\n",
    "\n",
    "weighted_sum = compute_weighted_sum(inputs, node_weights, node_bias)\n",
    "print('Weighted Sum at 1st node in 1st hidden layer: {}'.format(np.around(weighted_sum[0], decimals=4)))"
   ]
  },
  {
   "cell_type": "code",
   "execution_count": 19,
   "id": "ee13e13c-d11d-4464-b17c-928e7c9193b8",
   "metadata": {},
   "outputs": [],
   "source": [
    "def node_activation(weighted_sum):\n",
    "    return 1.0/(1.0 + np.exp(-1 * weighted_sum))"
   ]
  },
  {
   "cell_type": "code",
   "execution_count": 20,
   "id": "a1178d60-d7a4-43ee-ada7-ae4311adc251",
   "metadata": {},
   "outputs": [
    {
     "name": "stdout",
     "output_type": "stream",
     "text": [
      "Output of 1st node in 1st hidden layer: 0.7934\n"
     ]
    }
   ],
   "source": [
    "node_output = node_activation(compute_weighted_sum(inputs, node_weights, node_bias))\n",
    "print('Output of 1st node in 1st hidden layer: {}'.format(np.around(node_output[0], decimals=4)))"
   ]
  },
  {
   "cell_type": "code",
   "execution_count": 21,
   "id": "7212e520-b16d-4a79-8df9-59d09295f28c",
   "metadata": {},
   "outputs": [],
   "source": [
    "# #forward propogation\n",
    "\n",
    "# def forward_propagate(network, inputs):\n",
    "#     # start with the input layer as the input to the first hidden layer\n",
    "#     layer_inputs = list(inputs)\n",
    "\n",
    "#     #loop for each layer in a network\n",
    "#     for layer in network:\n",
    "#         #get layer data\n",
    "#         layer_data = network[layer]\n",
    "#         #have to find output, so initialize a array\n",
    "#         layer_outputs = []\n",
    "\n",
    "#         #loop each layer_node through layer data to compute weighted sum & output\n",
    "#         for layer_node in layer_data:\n",
    "#             node_data = layer_data[layer_node]\n",
    "#             node_output = node_activation(compute_weighted_sum(layer_inputs, node_data['weights'], node_data['bias']))\n",
    "\n",
    "#             if layer != 'output':\n",
    "#                 print('The output of then nodes in hidden layer number {} is {}'.format(layer.split('_')[1], layer_outputs))\n",
    "#             layer_inputs = layer_outputs # # set the output of this layer to be the input to next layer\n",
    "\n",
    "#     network_prediction = layer_outputs\n",
    "#     return network_predictions\n",
    "\n",
    "def forward_propagate(network, inputs):\n",
    "    # start with the input layer as the input to the first hidden layer\n",
    "    layer_inputs = list(inputs)\n",
    "\n",
    "    # loop for each layer in a network\n",
    "    for layer in network:\n",
    "        # get layer data\n",
    "        layer_data = network[layer]\n",
    "        # have to find output, so initialize a array\n",
    "        layer_outputs = []\n",
    "\n",
    "        # loop each layer_node through layer data to compute weighted sum & output\n",
    "        for layer_node in layer_data:\n",
    "            node_data = layer_data[layer_node]\n",
    "            node_output = node_activation(compute_weighted_sum(layer_inputs, node_data['weights'], node_data['bias']))\n",
    "            layer_outputs.append(node_output)  # Append the node output to the layer_outputs list\n",
    "            if layer != 'output':\n",
    "                print('The output of then nodes in hidden layer number {} is {}'.format(layer.split('_')[1], layer_outputs))\n",
    "        layer_inputs = layer_outputs  # set the output of this layer to be the input to next layer\n",
    "\n",
    "    network_predictions = layer_outputs  # Update variable name to avoid typo\n",
    "    return network_predictions"
   ]
  },
  {
   "cell_type": "code",
   "execution_count": null,
   "id": "cf55269d-9317-4f8c-bced-33e6858cf48d",
   "metadata": {},
   "outputs": [],
   "source": []
  },
  {
   "cell_type": "code",
   "execution_count": 22,
   "id": "6bcf41b9-c338-41ac-a4ef-9ff030ee4c73",
   "metadata": {},
   "outputs": [
    {
     "name": "stdout",
     "output_type": "stream",
     "text": [
      "The output of then nodes in hidden layer number 1 is [array([0.79342574])]\n",
      "The output of then nodes in hidden layer number 1 is [array([0.79342574]), array([0.69410896])]\n",
      "The output of then nodes in hidden layer number 1 is [array([0.79342574]), array([0.69410896]), array([0.66685616])]\n",
      "The output of then nodes in hidden layer number 2 is [array([0.99460696])]\n",
      "The output of then nodes in hidden layer number 2 is [array([0.99460696]), array([0.92893375])]\n",
      "The output of then nodes in hidden layer number 3 is [array([0.8650716])]\n",
      "The output of then nodes in hidden layer number 3 is [array([0.8650716]), array([0.98314744])]\n",
      "The output of then nodes in hidden layer number 3 is [array([0.8650716]), array([0.98314744]), array([0.70301781])]\n",
      "The predicted value by the network for the given input is [0.9976]\n"
     ]
    }
   ],
   "source": [
    "# predictions = forward_propagate(small_network, inputs)\n",
    "\n",
    "# print('The predicted value by the network for the given input is {}'.format(np.around(prediction[0], decimals=4)))\n",
    "\n",
    "predictions = forward_propagate(small_network, inputs)\n",
    "\n",
    "print('The predicted value by the network for the given input is {}'.format(np.around(predictions[0], decimals=4)))\n"
   ]
  },
  {
   "cell_type": "code",
   "execution_count": 23,
   "id": "05281c6c-7293-4c87-a4ab-8b6098976453",
   "metadata": {},
   "outputs": [],
   "source": [
    "my_network = initialize_network(5, 3, [2, 3, 2], 3)"
   ]
  },
  {
   "cell_type": "code",
   "execution_count": 24,
   "id": "13acf9ca-7b5f-4bb4-a658-99a03d17c1d5",
   "metadata": {},
   "outputs": [],
   "source": [
    "inputs = np.around(np.random.uniform(size=5), decimals=2)"
   ]
  },
  {
   "cell_type": "code",
   "execution_count": 25,
   "id": "20fc68ab-8cdf-4681-b11d-e4c0aa447d85",
   "metadata": {},
   "outputs": [
    {
     "name": "stdout",
     "output_type": "stream",
     "text": [
      "The output of then nodes in hidden layer number 1 is [array([0.88566439])]\n",
      "The output of then nodes in hidden layer number 1 is [array([0.88566439]), array([0.88892429])]\n",
      "The output of then nodes in hidden layer number 2 is [array([0.91652038])]\n",
      "The output of then nodes in hidden layer number 2 is [array([0.91652038]), array([0.82115306])]\n",
      "The output of then nodes in hidden layer number 2 is [array([0.91652038]), array([0.82115306]), array([0.80737969])]\n",
      "The output of then nodes in hidden layer number 3 is [array([0.99143258])]\n",
      "The output of then nodes in hidden layer number 3 is [array([0.99143258]), array([0.98835623])]\n",
      "The predicted values by the network for the given input are [array([0.97973265]), array([0.94809001]), array([0.95034398])]\n"
     ]
    }
   ],
   "source": [
    "predictions = forward_propagate(my_network, inputs)\n",
    "print('The predicted values by the network for the given input are {}'.format(predictions))"
   ]
  },
  {
   "cell_type": "code",
   "execution_count": null,
   "id": "41c89c26-f299-48fd-b7c8-41143f262791",
   "metadata": {},
   "outputs": [],
   "source": []
  }
 ],
 "metadata": {
  "kernelspec": {
   "display_name": "Python 3 (ipykernel)",
   "language": "python",
   "name": "python3"
  },
  "language_info": {
   "codemirror_mode": {
    "name": "ipython",
    "version": 3
   },
   "file_extension": ".py",
   "mimetype": "text/x-python",
   "name": "python",
   "nbconvert_exporter": "python",
   "pygments_lexer": "ipython3",
   "version": "3.12.0"
  }
 },
 "nbformat": 4,
 "nbformat_minor": 5
}
